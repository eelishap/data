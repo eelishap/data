{
 "cells": [
  {
   "cell_type": "code",
   "execution_count": 1,
   "metadata": {},
   "outputs": [],
   "source": [
    "import pandas as pd\n",
    "import numpy as np"
   ]
  },
  {
   "cell_type": "code",
   "execution_count": 2,
   "metadata": {},
   "outputs": [],
   "source": [
    "df = pd.read_csv('./dataset.csv')"
   ]
  },
  {
   "cell_type": "code",
   "execution_count": 3,
   "metadata": {},
   "outputs": [],
   "source": [
    "all_unique_postcodes = df['post_code'].unique()"
   ]
  },
  {
   "cell_type": "code",
   "execution_count": null,
   "metadata": {},
   "outputs": [],
   "source": [
    "for postcode in all_unique_postcodes:\n",
    "    test_df = df[df['post_code'] == postcode]\n",
    "    dobs = test_df['dob'].unique().tolist()\n",
    "    data_new = {'post_code' : postcode,\n",
    "            'dob' : [(', '.join(map(str,dobs)))],\n",
    "            'total_unique_dob' : len(dobs),\n",
    "            'total_records' : len(test_df.index)\n",
    "           }\n",
    "    data = pd.DataFrame(data_new)\n",
    "    data.to_csv('./task1_result/postcode{}.csv'.format(postcode))\n",
    "    print(data)\n",
    "    print('................................................')"
   ]
  }
 ],
 "metadata": {
  "kernelspec": {
   "display_name": "Python 3 (ipykernel)",
   "language": "python",
   "name": "python3"
  },
  "language_info": {
   "codemirror_mode": {
    "name": "ipython",
    "version": 3
   },
   "file_extension": ".py",
   "mimetype": "text/x-python",
   "name": "python",
   "nbconvert_exporter": "python",
   "pygments_lexer": "ipython3",
   "version": "3.7.6"
  },
  "vscode": {
   "interpreter": {
    "hash": "916dbcbb3f70747c44a77c7bcd40155683ae19c65e1c03b4aa3499c5328201f1"
   }
  }
 },
 "nbformat": 4,
 "nbformat_minor": 4
}
